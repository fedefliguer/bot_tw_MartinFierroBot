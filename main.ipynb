{
  "nbformat": 4,
  "nbformat_minor": 0,
  "metadata": {
    "colab": {
      "name": "Martín Fierro - Versión actual",
      "provenance": [],
      "authorship_tag": "ABX9TyNMslP0sCO1a/hVj1wenBVP",
      "include_colab_link": true
    },
    "kernelspec": {
      "name": "python3",
      "display_name": "Python 3"
    }
  },
  "cells": [
    {
      "cell_type": "markdown",
      "metadata": {
        "id": "view-in-github",
        "colab_type": "text"
      },
      "source": [
        "<a href=\"https://colab.research.google.com/github/fedefliguer/bot_tw_MartinFierroBot/blob/master/main.ipynb\" target=\"_parent\"><img src=\"https://colab.research.google.com/assets/colab-badge.svg\" alt=\"Open In Colab\"/></a>"
      ]
    },
    {
      "cell_type": "code",
      "metadata": {
        "id": "kQrobRBGzZWw",
        "colab_type": "code",
        "colab": {}
      },
      "source": [
        "from google.cloud import storage\n",
        "import random\n",
        "import tweepy as tw\n",
        "\n",
        "def readbook(self):\n",
        "\n",
        "    consumer_key = ''\n",
        "    consumer_secret = ''\n",
        "    access_token = ''\n",
        "    access_token_secret = ''\n",
        "\n",
        "    auth = tw.OAuthHandler(consumer_key, consumer_secret)\n",
        "    auth.set_access_token(access_token, access_token_secret)\n",
        "    api = tw.API(auth)\n",
        "\n",
        "    storage_client = storage.Client()\n",
        "    bucket = storage_client.get_bucket(\"martinfierrobot\")\n",
        "    blob = bucket.blob(\"MF.txt\")\n",
        "    data = blob.download_as_string()\n",
        "    decoded = data.decode(\"latin1\")\n",
        "    numStart = random.randint(1,1192)\n",
        "    numEnd = numStart + 1\n",
        "    strStart = str(numStart)\n",
        "    strEnd = str(numEnd)\n",
        "    start = decoded.find(strStart)\n",
        "    end = decoded.find(strEnd)\n",
        "    substring = decoded[start:end]\n",
        "    if len(substring) > 280:\n",
        "        return f'End por exceso'\n",
        "    else:\n",
        "        api.update_status(substring)\n",
        "        return f'End'"
      ],
      "execution_count": null,
      "outputs": []
    }
  ]
}